{
 "cells": [
  {
   "cell_type": "markdown",
   "metadata": {},
   "source": [
    "#Technical Indicators Framework\n",
    "A collection of methods to compute various technical indicators from equity closing prices."
   ]
  },
  {
   "cell_type": "code",
   "execution_count": 1,
   "metadata": {
    "collapsed": true
   },
   "outputs": [],
   "source": [
    "import numpy as np\n",
    "import matplotlib.pyplot as plt\n",
    "import pandas as pd\n",
    "import scipy\n",
    "import math"
   ]
  },
  {
   "cell_type": "markdown",
   "metadata": {},
   "source": [
    "##Relative Strength Index\n",
    "The following method calculates the RSI with the following algorithm.\n",
    "\n",
    "Each trading day is characterized by either positive or negative change and an upward or downward change is recorded.\n",
    "\n",
    "For an upward change:\n",
    "$$U = \\text{close}_{\\text{now}} - \\text{close}_{\\text{previous}}$$\n",
    "$$D=0$$\n",
    "\n",
    "For a downward change:\n",
    "$$U = 0$$\n",
    "$$D=\\text{close}_{\\text{previous}} - \\text{close}_{\\text{now}}$$\n",
    "\n",
    "The relative strength is calculated using the ratio of the exponential averages of upwards and downwards changes.\n",
    "\n",
    "$$\\text{RS}=\\frac{\\text{EMA}(U, n)}{\\text{EMA}(D, n)}$$\n",
    "\n",
    "A normalized scale from 0 to 100 is then used for the RSI calculated below.\n",
    "\n",
    "$$\\text{RSI} = 100 - \\frac{100}{1+\\text{RS}}$$"
   ]
  },
  {
   "cell_type": "code",
   "execution_count": 2,
   "metadata": {
    "collapsed": true
   },
   "outputs": [],
   "source": [
    "def calc_RSI(asset):\n",
    "    window_length = 27\n",
    "    column_list = ['close', 'up', 'down', 'up_ema', 'down_ema' 'ratio', 'score']\n",
    "    rsi = pd.DataFrame(columns=column_list, index=asset.index)\n",
    "    prev_close = np.nan\n",
    "    for index, row in rsi.iterrows():\n",
    "        row['close'] = asset.loc[index]\n",
    "        curr_close = row['close']\n",
    "        if curr_close > prev_close:\n",
    "            row['up'] = curr_close - prev_close\n",
    "            row['down'] = 0\n",
    "        elif curr_close < prev_close:\n",
    "            row['up'] = 0\n",
    "            row['down'] = prev_close - curr_close\n",
    "        prev_close = row['close']\n",
    "\n",
    "    up_ema = rsi['up'].ewm(span=window_length, adjust=False, min_periods=window_length).mean()\n",
    "    down_ema = rsi['down'].ewm(span=window_length, adjust=False, min_periods=window_length).mean()\n",
    "\n",
    "    rsi = pd.Series(index=asset.index)\n",
    "    for date in rsi.index:\n",
    "        ratio = up_ema.loc[date] / down_ema.loc[date]\n",
    "        score = 100 - 100 / (1 + ratio)\n",
    "        rsi.loc[date] = score\n",
    "    return rsi"
   ]
  },
  {
   "cell_type": "markdown",
   "metadata": {},
   "source": [
    "##Stochastic oscillator\n",
    "\n",
    "The following formula is used:\n",
    "$$\\text{%}K = 100 \\times \\frac{\\text{closing price} - L}{H - L}$$\n",
    "\n",
    "where $H$ and $L$ represent the highest and lowest prices over $N$ periods.\n",
    "\n",
    "A simple moving average of the indicator is also defined as followed, given by $\\text{%}D$\n",
    "\n",
    "$$\\text{%}D = \\text{3 period moving average of %}K$$ "
   ]
  },
  {
   "cell_type": "code",
   "execution_count": 3,
   "metadata": {
    "collapsed": true
   },
   "outputs": [],
   "source": [
    "def calc_stoch(asset, N):\n",
    "    window_length = N\n",
    "    stoch = pd.DataFrame(index=asset.index)\n",
    "    stoch['close'] = asset\n",
    "    stoch['%K'] = 100 * (stoch['close'] - stoch['close'].rolling(window=window_length).min()) / (stoch['close'].rolling(window=window_length).max() - stoch['close'].rolling(window=window_length).min())\n",
    "    stoch['%D'] = stoch['%K'].rolling(window=3).mean()\n",
    "    return stoch"
   ]
  },
  {
   "cell_type": "markdown",
   "metadata": {},
   "source": [
    "##Bollinger bands\n",
    "\n",
    "The following formula is used to calculate the bands:\n",
    "\n",
    "$$\\text{upper band} = \\text{SMA} + 2\\sigma$$\n",
    "$$\\text{lower band} = \\text{SMA} - 2\\sigma$$\n",
    "\n",
    "Where the simple moving average and standard deviation are calculated over $N$ days. \n",
    "\n",
    "The $\\text{bandwidth}$ and $\\text{%}b$ are also calculated according to the following formulas:\n",
    "\n",
    "$$\\text{%}b = \\frac{\\text{price} - \\text{lower band}}{\\text{upper band} - \\text{lower band}}$$\n",
    "\n",
    "$$\\text{bandwidth} = \\frac{\\text{upper band} - \\text{lower band}}{\\text{SMA}}$$"
   ]
  },
  {
   "cell_type": "code",
   "execution_count": 4,
   "metadata": {
    "collapsed": true
   },
   "outputs": [],
   "source": [
    "def calc_bollinger(asset, N, K):\n",
    "    column_list = ['close', 'std', 'sma', 'upper_band', 'lower_band', '%b', 'bandwith']\n",
    "    bollinger = pd.DataFrame(columns=column_list, index=asset.index)\n",
    "    bollinger['close'] = asset\n",
    "    bollinger['std'] = bollinger['close'].rolling(window=N).std()\n",
    "    bollinger['sma'] = bollinger['close'].rolling(window=N).mean()\n",
    "    bollinger['upper_band'] = bollinger['sma'] + bollinger['std'] * K\n",
    "    bollinger['lower_band'] = bollinger['sma'] - bollinger['std'] * K\n",
    "    bollinger['%b'] = 100 * (bollinger['close'] - bollinger['lower_band']) / (bollinger['upper_band'] - bollinger['lower_band']) \n",
    "    bollinger['bandwith'] = 100 * (bollinger['upper_band'] - bollinger['lower_band']) / bollinger['sma']\n",
    "    return bollinger.dropna()"
   ]
  },
  {
   "cell_type": "code",
   "execution_count": null,
   "metadata": {
    "collapsed": true
   },
   "outputs": [],
   "source": []
  }
 ],
 "metadata": {
  "kernelspec": {
   "display_name": "Python 2",
   "language": "python",
   "name": "python2"
  },
  "language_info": {
   "codemirror_mode": {
    "name": "ipython",
    "version": 2
   },
   "file_extension": ".py",
   "mimetype": "text/x-python",
   "name": "python",
   "nbconvert_exporter": "python",
   "pygments_lexer": "ipython2",
   "version": "2.7.12"
  }
 },
 "nbformat": 4,
 "nbformat_minor": 2
}